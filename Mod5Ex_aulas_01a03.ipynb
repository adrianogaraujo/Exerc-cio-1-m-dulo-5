{
 "cells": [
  {
   "cell_type": "markdown",
   "metadata": {},
   "source": [
    "# Módulo 5 Tarefa 1\n",
    "## Base de nascidos vivos do DataSUS\n",
    "O DataSUS disponibiliza diversos arquivos de dados com relação a seus segurados, conforme a [lei da transparência de informações públicas](https://www.sisgov.com/transparencia-acesso-informacao/#:~:text=A%20Lei%20da%20Transpar%C3%AAncia%20(LC,em%20um%20site%20na%20internet.). \n",
    "\n",
    "Essas informações podem ser obtidas pela internet [aqui](http://www2.datasus.gov.br/DATASUS/index.php?area=0901&item=1). Como o processo de obtenção desses arquivos foge um pouco do nosso escopo, deixamos o arquivo SINASC_RO_2019.csv` já como vai ser encontrado no DataSUS. O dicionário de dados está no arquivo `estrutura_sinasc_para_CD.pdf` (o nome do arquivo tal qual no portal do DataSUS).\n",
    "\n",
    "### Nosso objetivo\n",
    "Queremos deixar uma base organizada para podermos estudar a relação entre partos com risco para o bebê e algumas condições como tempo de parto, consultas de pré-natal etc.\n",
    "\n",
    "#### Preparação da base\n",
    "1. Carregue a base 'SINASC_RO_2019.csv'. Conte o número de registros e o número de registros não duplicados da base. Dica: você aprendeu um método que remove duplicados, encadeie este método com um outro método que conta o número de linhas. **Há linhas duplicadas?**  \n",
    "\n",
    "2. Conte o número de valores *missing* por variável.  \n",
    "\n",
    "3. Ok, no item anterior você deve ter achado pouco prático ler a informação de tantas variáveis, muitas delas nem devem ser interesantes. Então crie uma seleção dessa base somente com as colunas que interessam. São elas:\n",
    "` \n",
    "['LOCNASC', 'IDADEMAE', 'ESTCIVMAE', 'ESCMAE', 'QTDFILVIVO', \n",
    "    'GESTACAO', 'GRAVIDEZ', 'CONSULTAS', 'APGAR5'] \n",
    "`\n",
    "Refaça a contagem de valores *missings*.  \n",
    "\n",
    "4. Apagar é uma *nota* que o pediatra dá ao bebê quando nasce de acordo com algumas características associadas principalmente à respiração. Apgar 1 e Apgar 5 são as notas 1 e 5 minutos do nascimento. Apgar5 será a nossa variável de interesse principal. Então remova todos os registros com Apgar5 não preenchido. Para esta seleção, conte novamente o número de linhas e o número de *missings*.  \n",
    "\n",
    "5. observe que as variáveis `['ESTCIVMAE', 'CONSULTAS']` possuem o código `9`, que significa *ignorado*. Vamos assumir que o não preenchido é o mesmo que o código `9`.<br>\n",
    "6. Substitua os valores faltantes da quantitativa (`QTDFILVIVO`) por zero.  \n",
    "7. Das restantes, decida que valore te parece mais adequado (um 'não preenchido' ou um valor 'mais provável' como no item anterior) e preencha. Justifique. Lembre-se de que tratamento de dados é trabalho do cientista, e que estamos tomando decisões a todo o momento - não há necessariamente certo e errado aqui.  \n",
    "8. O Apgar possui uma classificação indicando se o bebê passou por asfixia:\n",
    "- Entre 8 e 10 está em uma faixa 'normal'. \n",
    "- Entre 6 e 7, significa que o recém-nascido passou por 'asfixia leve'. \n",
    "- Entre 4 e 5 significa 'asfixia moderada'.\n",
    "- Entre 0 e 3 significa 'asfixia severa'.  \n",
    "\n",
    "Crie uma categorização dessa variável com essa codificação e calcule as frequências dessa categorização.  \n",
    "<br>\n",
    "9. Renomeie as variáveis para que fiquem no *snake case*, ou seja, em letras minúsculas, com um *underscore* entre as palávras. Dica: repare que se você não quiser criar um *dataframe* novo, você vai precisar usar a opção `inplace = True`."
   ]
  },
  {
   "cell_type": "code",
   "execution_count": 2,
   "metadata": {},
   "outputs": [
    {
     "name": "stdout",
     "output_type": "stream",
     "text": [
      "(27028, 69)\n"
     ]
    },
    {
     "data": {
      "text/plain": [
       "(27028, 69)"
      ]
     },
     "execution_count": 2,
     "metadata": {},
     "output_type": "execute_result"
    }
   ],
   "source": [
    "import pandas as pd\n",
    "import requests\n",
    "\n",
    "# 1) seu código aqui\n",
    "sinasc = pd.read_csv('SINASC_RO_2019.csv')\n",
    "print(sinasc.shape)\n",
    "sinasc.drop_duplicates().shape\n",
    "# Não há duplicados"
   ]
  },
  {
   "cell_type": "code",
   "execution_count": 3,
   "metadata": {},
   "outputs": [
    {
     "name": "stdout",
     "output_type": "stream",
     "text": [
      "Total de registros: 27028\n",
      "Total de registros únicos: 27028\n",
      "Há duplicados: False\n",
      "\n",
      "Valores faltantes por variável na base original:\n",
      " ORIGEM          0\n",
      "CODESTAB      115\n",
      "CODMUNNASC      0\n",
      "LOCNASC         0\n",
      "IDADEMAE        0\n",
      "             ... \n",
      "munResUf        0\n",
      "munResLat       1\n",
      "munResLon       1\n",
      "munResAlt       1\n",
      "munResArea      1\n",
      "Length: 69, dtype: int64\n",
      "\n",
      "Valores faltantes por variável na base selecionada:\n",
      " LOCNASC          0\n",
      "IDADEMAE         0\n",
      "ESTCIVMAE      317\n",
      "ESCMAE         312\n",
      "QTDFILVIVO    1573\n",
      "GESTACAO      1232\n",
      "GRAVIDEZ        79\n",
      "CONSULTAS        0\n",
      "APGAR5         103\n",
      "dtype: int64\n"
     ]
    }
   ],
   "source": [
    "# Contar o número de registros e registros não duplicados\n",
    "num_registros = sinasc.shape[0]\n",
    "num_registros_unicos = sinasc.drop_duplicates().shape[0]\n",
    "\n",
    "# Verificar se há duplicados\n",
    "tem_duplicados = num_registros != num_registros_unicos\n",
    "\n",
    "# Contar o número de valores faltantes por variável\n",
    "missing_values = sinasc.isnull().sum()\n",
    "\n",
    "# Selecionar colunas de interesse\n",
    "colunas_interesse = ['LOCNASC', 'IDADEMAE', 'ESTCIVMAE', 'ESCMAE', 'QTDFILVIVO', 'GESTACAO', 'GRAVIDEZ', 'CONSULTAS', 'APGAR5']\n",
    "sinasc_selecionada = sinasc[colunas_interesse]\n",
    "\n",
    "# Refazer a contagem de valores faltantes na nova base\n",
    "missing_values_selecionada = sinasc_selecionada.isnull().sum()\n",
    "\n",
    "# Exibir resultados\n",
    "print(f\"Total de registros: {num_registros}\")\n",
    "print(f\"Total de registros únicos: {num_registros_unicos}\")\n",
    "print(f\"Há duplicados: {tem_duplicados}\")\n",
    "print(\"\\nValores faltantes por variável na base original:\\n\", missing_values)\n",
    "print(\"\\nValores faltantes por variável na base selecionada:\\n\", missing_values_selecionada)\n"
   ]
  },
  {
   "cell_type": "code",
   "execution_count": 4,
   "metadata": {
    "scrolled": true
   },
   "outputs": [
    {
     "name": "stdout",
     "output_type": "stream",
     "text": [
      "\n",
      "Valores faltantes por variável após preenchimento inicial:\n",
      " LOCNASC          0\n",
      "IDADEMAE         0\n",
      "ESTCIVMAE        0\n",
      "ESCMAE         310\n",
      "QTDFILVIVO       0\n",
      "GESTACAO      1216\n",
      "GRAVIDEZ        76\n",
      "CONSULTAS        0\n",
      "APGAR5           0\n",
      "dtype: int64\n",
      "\n",
      "Frequências da categorização APGAR5:\n",
      " APGAR5_CATEGORIA\n",
      "normal              26463\n",
      "asfixia_leve          320\n",
      "asfixia_severa         74\n",
      "asfixia_moderada       68\n",
      "Name: count, dtype: int64\n",
      "\n",
      "DataFrame final:\n",
      "    locnasc  idade_mae  estcivmae           escmae  qtdfilvivo  \\\n",
      "0        1         19        5.0      8 a 11 anos         0.0   \n",
      "1        1         29        2.0      8 a 11 anos         1.0   \n",
      "2        1         37        9.0      8 a 11 anos         2.0   \n",
      "3        1         30        5.0  12 anos ou mais         0.0   \n",
      "4        1         30        2.0      8 a 11 anos         1.0   \n",
      "\n",
      "          gestacao gravidez  consultas  apgar5 apgar5_categoria  \n",
      "0  37 a 41 semanas    Única          4    10.0           normal  \n",
      "1  37 a 41 semanas    Única          4     9.0           normal  \n",
      "2  37 a 41 semanas    Única          4    10.0           normal  \n",
      "3  37 a 41 semanas    Única          3    10.0           normal  \n",
      "4  37 a 41 semanas    Única          4    10.0           normal  \n"
     ]
    }
   ],
   "source": [
    "# Selecionar colunas de interesse\n",
    "colunas_interesse = ['LOCNASC', 'IDADEMAE', 'ESTCIVMAE', 'ESCMAE', 'QTDFILVIVO', 'GESTACAO', 'GRAVIDEZ', 'CONSULTAS', 'APGAR5']\n",
    "sinasc_selecionada = sinasc[colunas_interesse]\n",
    "\n",
    "# Remover registros com Apgar5 não preenchido\n",
    "sinasc_selecionada = sinasc_selecionada.dropna(subset=['APGAR5'])\n",
    "\n",
    "# Substituir valores faltantes em ESTCIVMAE e CONSULTAS por 9\n",
    "sinasc_selecionada['ESTCIVMAE'] = sinasc_selecionada['ESTCIVMAE'].fillna(9)\n",
    "sinasc_selecionada['CONSULTAS'] = sinasc_selecionada['CONSULTAS'].fillna(9)\n",
    "\n",
    "# Substituir valores faltantes em QTDFILVIVO por zero\n",
    "sinasc_selecionada['QTDFILVIVO'] = sinasc_selecionada['QTDFILVIVO'].fillna(0)\n",
    "\n",
    "# Analisar valores faltantes restantes\n",
    "missing_values_restantes = sinasc_selecionada.isnull().sum()\n",
    "print(\"\\nValores faltantes por variável após preenchimento inicial:\\n\", missing_values_restantes)\n",
    "\n",
    "# Preencher valores faltantes restantes\n",
    "# LOCNASC: Preencher com o valor mais frequente\n",
    "locnasc_mode = sinasc_selecionada['LOCNASC'].mode()[0]\n",
    "sinasc_selecionada['LOCNASC'] = sinasc_selecionada['LOCNASC'].fillna(locnasc_mode)\n",
    "\n",
    "# IDADEMAE: Preencher com a média\n",
    "idade_mae_mean = sinasc_selecionada['IDADEMAE'].mean()\n",
    "sinasc_selecionada['IDADEMAE'] = sinasc_selecionada['IDADEMAE'].fillna(idade_mae_mean)\n",
    "\n",
    "# ESCMAE: Preencher com o valor mais frequente\n",
    "escmae_mode = sinasc_selecionada['ESCMAE'].mode()[0]\n",
    "sinasc_selecionada['ESCMAE'] = sinasc_selecionada['ESCMAE'].fillna(escmae_mode)\n",
    "\n",
    "# GESTACAO: Preencher com o valor mais frequente\n",
    "gestacao_mode = sinasc_selecionada['GESTACAO'].mode()[0]\n",
    "sinasc_selecionada['GESTACAO'] = sinasc_selecionada['GESTACAO'].fillna(gestacao_mode)\n",
    "\n",
    "# GRAVIDEZ: Preencher com o valor mais frequente\n",
    "gravidez_mode = sinasc_selecionada['GRAVIDEZ'].mode()[0]\n",
    "sinasc_selecionada['GRAVIDEZ'] = sinasc_selecionada['GRAVIDEZ'].fillna(gravidez_mode)\n",
    "\n",
    "# Criar categorização para APGAR5\n",
    "def categorize_apgar(apgar5):\n",
    "    if apgar5 >= 8:\n",
    "        return 'normal'\n",
    "    elif apgar5 >= 6:\n",
    "        return 'asfixia_leve'\n",
    "    elif apgar5 >= 4:\n",
    "        return 'asfixia_moderada'\n",
    "    else:\n",
    "        return 'asfixia_severa'\n",
    "\n",
    "sinasc_selecionada['APGAR5_CATEGORIA'] = sinasc_selecionada['APGAR5'].apply(categorize_apgar)\n",
    "\n",
    "# Calcular frequências da categorização\n",
    "frequencias_apgar5_categoria = sinasc_selecionada['APGAR5_CATEGORIA'].value_counts()\n",
    "print(\"\\nFrequências da categorização APGAR5:\\n\", frequencias_apgar5_categoria)\n",
    "\n",
    "# Renomear variáveis para snake case\n",
    "sinasc_selecionada.rename(columns={\n",
    "    'LOCNASC': 'locnasc',\n",
    "    'IDADEMAE': 'idade_mae',\n",
    "    'ESTCIVMAE': 'estcivmae',\n",
    "    'ESCMAE': 'escmae',\n",
    "    'QTDFILVIVO': 'qtdfilvivo',\n",
    "    'GESTACAO': 'gestacao',\n",
    "    'GRAVIDEZ': 'gravidez',\n",
    "    'CONSULTAS': 'consultas',\n",
    "    'APGAR5': 'apgar5',\n",
    "    'APGAR5_CATEGORIA': 'apgar5_categoria'\n",
    "}, inplace=True)\n",
    "\n",
    "# Exibir DataFrame final\n",
    "print(\"\\nDataFrame final:\\n\", sinasc_selecionada.head())\n"
   ]
  },
  {
   "cell_type": "code",
   "execution_count": 5,
   "metadata": {},
   "outputs": [],
   "source": [
    "# 6) Seu código aqui\n"
   ]
  },
  {
   "cell_type": "code",
   "execution_count": 6,
   "metadata": {},
   "outputs": [],
   "source": [
    "# 7) seu código aqui\n"
   ]
  },
  {
   "cell_type": "code",
   "execution_count": 7,
   "metadata": {},
   "outputs": [],
   "source": [
    "# 8) seu código aqui\n"
   ]
  },
  {
   "cell_type": "code",
   "execution_count": 8,
   "metadata": {},
   "outputs": [],
   "source": [
    "# 9) seu código aqui\n"
   ]
  }
 ],
 "metadata": {
  "kernelspec": {
   "display_name": "Python 3 (ipykernel)",
   "language": "python",
   "name": "python3"
  },
  "language_info": {
   "codemirror_mode": {
    "name": "ipython",
    "version": 3
   },
   "file_extension": ".py",
   "mimetype": "text/x-python",
   "name": "python",
   "nbconvert_exporter": "python",
   "pygments_lexer": "ipython3",
   "version": "3.12.4"
  }
 },
 "nbformat": 4,
 "nbformat_minor": 4
}
